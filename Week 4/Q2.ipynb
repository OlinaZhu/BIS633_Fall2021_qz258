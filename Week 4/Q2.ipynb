{
 "cells": [
  {
   "cell_type": "code",
   "execution_count": 2,
   "metadata": {
    "collapsed": true,
    "pycharm": {
     "name": "#%%\n"
    }
   },
   "outputs": [
    {
     "data": {
      "text/plain": "   Unnamed: 0  _STATE  FMONTH    IDATE  IMONTH  IDAY  IYEAR  DISPCODE  \\\n0           1       1       1  1182019       1    18   2019      1100   \n1           2       1       1  1132019       1    13   2019      1100   \n2           3       1       1  1182019       1    18   2019      1100   \n3           4       1       1  1182019       1    18   2019      1200   \n4           5       1       1  1042019       1     4   2019      1100   \n\n        SEQNO          _PSU  ...  _VEGESU1  _FRTLT1A  _VEGLT1A  _FRT16A  \\\n0  2019000001  2.019000e+09  ...     114.0         1         1        1   \n1  2019000002  2.019000e+09  ...     121.0         1         1        1   \n2  2019000003  2.019000e+09  ...     164.0         1         1        1   \n3  2019000004  2.019000e+09  ...       NaN         9         9        1   \n4  2019000005  2.019000e+09  ...     178.0         1         1        1   \n\n   _VEG23A  _FRUITE1  _VEGETE1  _FLSHOT7  _PNEUMO3  _AIDTST4  \n0        1         0         0       2.0       1.0       2.0  \n1        1         0         0       1.0       1.0       2.0  \n2        1         0         0       1.0       2.0       2.0  \n3        1         1         1       9.0       9.0       NaN  \n4        1         0         0       2.0       1.0       2.0  \n\n[5 rows x 343 columns]",
      "text/html": "<div>\n<style scoped>\n    .dataframe tbody tr th:only-of-type {\n        vertical-align: middle;\n    }\n\n    .dataframe tbody tr th {\n        vertical-align: top;\n    }\n\n    .dataframe thead th {\n        text-align: right;\n    }\n</style>\n<table border=\"1\" class=\"dataframe\">\n  <thead>\n    <tr style=\"text-align: right;\">\n      <th></th>\n      <th>Unnamed: 0</th>\n      <th>_STATE</th>\n      <th>FMONTH</th>\n      <th>IDATE</th>\n      <th>IMONTH</th>\n      <th>IDAY</th>\n      <th>IYEAR</th>\n      <th>DISPCODE</th>\n      <th>SEQNO</th>\n      <th>_PSU</th>\n      <th>...</th>\n      <th>_VEGESU1</th>\n      <th>_FRTLT1A</th>\n      <th>_VEGLT1A</th>\n      <th>_FRT16A</th>\n      <th>_VEG23A</th>\n      <th>_FRUITE1</th>\n      <th>_VEGETE1</th>\n      <th>_FLSHOT7</th>\n      <th>_PNEUMO3</th>\n      <th>_AIDTST4</th>\n    </tr>\n  </thead>\n  <tbody>\n    <tr>\n      <th>0</th>\n      <td>1</td>\n      <td>1</td>\n      <td>1</td>\n      <td>1182019</td>\n      <td>1</td>\n      <td>18</td>\n      <td>2019</td>\n      <td>1100</td>\n      <td>2019000001</td>\n      <td>2.019000e+09</td>\n      <td>...</td>\n      <td>114.0</td>\n      <td>1</td>\n      <td>1</td>\n      <td>1</td>\n      <td>1</td>\n      <td>0</td>\n      <td>0</td>\n      <td>2.0</td>\n      <td>1.0</td>\n      <td>2.0</td>\n    </tr>\n    <tr>\n      <th>1</th>\n      <td>2</td>\n      <td>1</td>\n      <td>1</td>\n      <td>1132019</td>\n      <td>1</td>\n      <td>13</td>\n      <td>2019</td>\n      <td>1100</td>\n      <td>2019000002</td>\n      <td>2.019000e+09</td>\n      <td>...</td>\n      <td>121.0</td>\n      <td>1</td>\n      <td>1</td>\n      <td>1</td>\n      <td>1</td>\n      <td>0</td>\n      <td>0</td>\n      <td>1.0</td>\n      <td>1.0</td>\n      <td>2.0</td>\n    </tr>\n    <tr>\n      <th>2</th>\n      <td>3</td>\n      <td>1</td>\n      <td>1</td>\n      <td>1182019</td>\n      <td>1</td>\n      <td>18</td>\n      <td>2019</td>\n      <td>1100</td>\n      <td>2019000003</td>\n      <td>2.019000e+09</td>\n      <td>...</td>\n      <td>164.0</td>\n      <td>1</td>\n      <td>1</td>\n      <td>1</td>\n      <td>1</td>\n      <td>0</td>\n      <td>0</td>\n      <td>1.0</td>\n      <td>2.0</td>\n      <td>2.0</td>\n    </tr>\n    <tr>\n      <th>3</th>\n      <td>4</td>\n      <td>1</td>\n      <td>1</td>\n      <td>1182019</td>\n      <td>1</td>\n      <td>18</td>\n      <td>2019</td>\n      <td>1200</td>\n      <td>2019000004</td>\n      <td>2.019000e+09</td>\n      <td>...</td>\n      <td>NaN</td>\n      <td>9</td>\n      <td>9</td>\n      <td>1</td>\n      <td>1</td>\n      <td>1</td>\n      <td>1</td>\n      <td>9.0</td>\n      <td>9.0</td>\n      <td>NaN</td>\n    </tr>\n    <tr>\n      <th>4</th>\n      <td>5</td>\n      <td>1</td>\n      <td>1</td>\n      <td>1042019</td>\n      <td>1</td>\n      <td>4</td>\n      <td>2019</td>\n      <td>1100</td>\n      <td>2019000005</td>\n      <td>2.019000e+09</td>\n      <td>...</td>\n      <td>178.0</td>\n      <td>1</td>\n      <td>1</td>\n      <td>1</td>\n      <td>1</td>\n      <td>0</td>\n      <td>0</td>\n      <td>2.0</td>\n      <td>1.0</td>\n      <td>2.0</td>\n    </tr>\n  </tbody>\n</table>\n<p>5 rows × 343 columns</p>\n</div>"
     },
     "execution_count": 2,
     "metadata": {},
     "output_type": "execute_result"
    }
   ],
   "source": [
    "# Data source: https://www.cdc.gov/brfss/annual_data/annual_2019.html\n",
    "# Codebook: https://www.cdc.gov/brfss/annual_data/2019/pdf/codebook19_llcp-v2-508.HTML\n",
    "\n",
    "# import libraries\n",
    "import seaborn as sns\n",
    "import pandas as pd\n",
    "\n",
    "# import dataset\n",
    "# Note that _SEX = 2 --> Female, _SEX = 1 --> Male, and _STATE = 9 --> Connecticut\n",
    "data = pd.read_csv(\"BRFSS 19 data.csv\")\n",
    "data.head()"
   ]
  },
  {
   "cell_type": "code",
   "execution_count": 23,
   "outputs": [
    {
     "data": {
      "text/plain": "       Unnamed: 0  FMONTH     IDATE  IMONTH  IDAY  IYEAR  DISPCODE  \\\n45259       45260       7   8232019       8    23   2019      1200   \n45260       45261       7   9202019       9    20   2019      1200   \n45261       45262      10  10292019      10    29   2019      1200   \n45262       45263       7   8072019       8     7   2019      1200   \n45263       45264      10  10122019      10    12   2019      1200   \n\n            SEQNO          _PSU  CTELENM1  ...  _VEGESU1  _FRTLT1A  _VEGLT1A  \\\n45259  2019000001  2.019000e+09       NaN  ...      43.0         1         2   \n45260  2019000002  2.019000e+09       NaN  ...     210.0         1         1   \n45261  2019000003  2.019000e+09       NaN  ...       NaN         2         9   \n45262  2019000004  2.019000e+09       NaN  ...     422.0         1         1   \n45263  2019000005  2.019000e+09       NaN  ...      99.0         1         2   \n\n       _FRT16A  _VEG23A  _FRUITE1  _VEGETE1  _FLSHOT7  _PNEUMO3  _AIDTST4  \n45259        1        1         0         0       NaN       NaN       1.0  \n45260        1        1         0         0       NaN       NaN       2.0  \n45261        1        1         0         1       NaN       NaN       NaN  \n45262        1        1         0         0       NaN       NaN       1.0  \n45263        1        1         0         0       NaN       NaN       1.0  \n\n[5 rows x 342 columns]",
      "text/html": "<div>\n<style scoped>\n    .dataframe tbody tr th:only-of-type {\n        vertical-align: middle;\n    }\n\n    .dataframe tbody tr th {\n        vertical-align: top;\n    }\n\n    .dataframe thead th {\n        text-align: right;\n    }\n</style>\n<table border=\"1\" class=\"dataframe\">\n  <thead>\n    <tr style=\"text-align: right;\">\n      <th></th>\n      <th>Unnamed: 0</th>\n      <th>FMONTH</th>\n      <th>IDATE</th>\n      <th>IMONTH</th>\n      <th>IDAY</th>\n      <th>IYEAR</th>\n      <th>DISPCODE</th>\n      <th>SEQNO</th>\n      <th>_PSU</th>\n      <th>CTELENM1</th>\n      <th>...</th>\n      <th>_VEGESU1</th>\n      <th>_FRTLT1A</th>\n      <th>_VEGLT1A</th>\n      <th>_FRT16A</th>\n      <th>_VEG23A</th>\n      <th>_FRUITE1</th>\n      <th>_VEGETE1</th>\n      <th>_FLSHOT7</th>\n      <th>_PNEUMO3</th>\n      <th>_AIDTST4</th>\n    </tr>\n  </thead>\n  <tbody>\n    <tr>\n      <th>45259</th>\n      <td>45260</td>\n      <td>7</td>\n      <td>8232019</td>\n      <td>8</td>\n      <td>23</td>\n      <td>2019</td>\n      <td>1200</td>\n      <td>2019000001</td>\n      <td>2.019000e+09</td>\n      <td>NaN</td>\n      <td>...</td>\n      <td>43.0</td>\n      <td>1</td>\n      <td>2</td>\n      <td>1</td>\n      <td>1</td>\n      <td>0</td>\n      <td>0</td>\n      <td>NaN</td>\n      <td>NaN</td>\n      <td>1.0</td>\n    </tr>\n    <tr>\n      <th>45260</th>\n      <td>45261</td>\n      <td>7</td>\n      <td>9202019</td>\n      <td>9</td>\n      <td>20</td>\n      <td>2019</td>\n      <td>1200</td>\n      <td>2019000002</td>\n      <td>2.019000e+09</td>\n      <td>NaN</td>\n      <td>...</td>\n      <td>210.0</td>\n      <td>1</td>\n      <td>1</td>\n      <td>1</td>\n      <td>1</td>\n      <td>0</td>\n      <td>0</td>\n      <td>NaN</td>\n      <td>NaN</td>\n      <td>2.0</td>\n    </tr>\n    <tr>\n      <th>45261</th>\n      <td>45262</td>\n      <td>10</td>\n      <td>10292019</td>\n      <td>10</td>\n      <td>29</td>\n      <td>2019</td>\n      <td>1200</td>\n      <td>2019000003</td>\n      <td>2.019000e+09</td>\n      <td>NaN</td>\n      <td>...</td>\n      <td>NaN</td>\n      <td>2</td>\n      <td>9</td>\n      <td>1</td>\n      <td>1</td>\n      <td>0</td>\n      <td>1</td>\n      <td>NaN</td>\n      <td>NaN</td>\n      <td>NaN</td>\n    </tr>\n    <tr>\n      <th>45262</th>\n      <td>45263</td>\n      <td>7</td>\n      <td>8072019</td>\n      <td>8</td>\n      <td>7</td>\n      <td>2019</td>\n      <td>1200</td>\n      <td>2019000004</td>\n      <td>2.019000e+09</td>\n      <td>NaN</td>\n      <td>...</td>\n      <td>422.0</td>\n      <td>1</td>\n      <td>1</td>\n      <td>1</td>\n      <td>1</td>\n      <td>0</td>\n      <td>0</td>\n      <td>NaN</td>\n      <td>NaN</td>\n      <td>1.0</td>\n    </tr>\n    <tr>\n      <th>45263</th>\n      <td>45264</td>\n      <td>10</td>\n      <td>10122019</td>\n      <td>10</td>\n      <td>12</td>\n      <td>2019</td>\n      <td>1200</td>\n      <td>2019000005</td>\n      <td>2.019000e+09</td>\n      <td>NaN</td>\n      <td>...</td>\n      <td>99.0</td>\n      <td>1</td>\n      <td>2</td>\n      <td>1</td>\n      <td>1</td>\n      <td>0</td>\n      <td>0</td>\n      <td>NaN</td>\n      <td>NaN</td>\n      <td>1.0</td>\n    </tr>\n  </tbody>\n</table>\n<p>5 rows × 342 columns</p>\n</div>"
     },
     "execution_count": 23,
     "metadata": {},
     "output_type": "execute_result"
    }
   ],
   "source": [
    "# extract only Connecticut respondents\n",
    "conn_data = data[data['_STATE']==9].drop(columns='_STATE')\n",
    "conn_data.head()"
   ],
   "metadata": {
    "collapsed": false,
    "pycharm": {
     "name": "#%%\n"
    }
   }
  },
  {
   "cell_type": "code",
   "execution_count": 24,
   "outputs": [
    {
     "name": "stdout",
     "output_type": "stream",
     "text": [
      "Horseback riding is in dataset is True\n"
     ]
    }
   ],
   "source": [
    "# extract EXRACT11 non-nan unique values\n",
    "# Favorite activity is Horseback riding == 24\n",
    "exract11 = conn_data['EXRACT11'].dropna()\n",
    "unique_exract11 = set(exract11)\n",
    "unique_exract11\n",
    "print(\"Horseback riding is in dataset is\", 24.0 in unique_exract11)"
   ],
   "metadata": {
    "collapsed": false,
    "pycharm": {
     "name": "#%%\n"
    }
   }
  },
  {
   "cell_type": "code",
   "execution_count": 44,
   "outputs": [
    {
     "name": "stdout",
     "output_type": "stream",
     "text": [
      "The number of males who chose horseback riding is 0\n",
      "The number of females who chose horseback riding is 8\n"
     ]
    }
   ],
   "source": [
    "# find number of male and female respondents who selected horseback riding\n",
    "exract11_data = conn_data[conn_data['EXRACT11']==24.0]\n",
    "sex = exract11_data.groupby('_SEX')['Unnamed: 0'].count()\n",
    "females = 0\n",
    "males = 0\n",
    "if 1 in sex:\n",
    "    males = sex[1]\n",
    "if 2 in sex:\n",
    "    females = sex[2]\n",
    "print(\"The number of males who chose horseback riding is\", males)\n",
    "print(\"The number of females who chose horseback riding is\", females)"
   ],
   "metadata": {
    "collapsed": false,
    "pycharm": {
     "name": "#%%\n"
    }
   }
  },
  {
   "cell_type": "code",
   "execution_count": 51,
   "outputs": [
    {
     "name": "stdout",
     "output_type": "stream",
     "text": [
      "The average height for a person in the state of Connecticut is 66.7 inches.\n"
     ]
    }
   ],
   "source": [
    "# bonus: average height of connecticut respondents\n",
    "conn_heights = conn_data['HTIN4'].dropna()\n",
    "avg_conn_height = conn_heights.sum()/conn_heights.count()\n",
    "print(\"The average height for a person in the state of Connecticut is\", round(avg_conn_height, 1), \"inches.\")"
   ],
   "metadata": {
    "collapsed": false,
    "pycharm": {
     "name": "#%%\n"
    }
   }
  }
 ],
 "metadata": {
  "kernelspec": {
   "display_name": "Python 3",
   "language": "python",
   "name": "python3"
  },
  "language_info": {
   "codemirror_mode": {
    "name": "ipython",
    "version": 2
   },
   "file_extension": ".py",
   "mimetype": "text/x-python",
   "name": "python",
   "nbconvert_exporter": "python",
   "pygments_lexer": "ipython2",
   "version": "2.7.6"
  }
 },
 "nbformat": 4,
 "nbformat_minor": 0
}